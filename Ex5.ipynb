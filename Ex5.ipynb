{
 "cells": [
  {
   "cell_type": "code",
   "execution_count": 5,
   "id": "03bc9264",
   "metadata": {},
   "outputs": [
    {
     "name": "stdout",
     "output_type": "stream",
     "text": [
      "Collecting pandas-datareader\n",
      "  Downloading pandas_datareader-0.10.0-py3-none-any.whl (109 kB)\n",
      "Requirement already satisfied: lxml in c:\\users\\efrae\\anaconda3\\lib\\site-packages (from pandas-datareader) (4.6.3)\n",
      "Requirement already satisfied: pandas>=0.23 in c:\\users\\efrae\\anaconda3\\lib\\site-packages (from pandas-datareader) (1.3.4)\n",
      "Requirement already satisfied: requests>=2.19.0 in c:\\users\\efrae\\anaconda3\\lib\\site-packages (from pandas-datareader) (2.26.0)\n",
      "Requirement already satisfied: pytz>=2017.3 in c:\\users\\efrae\\anaconda3\\lib\\site-packages (from pandas>=0.23->pandas-datareader) (2021.3)\n",
      "Requirement already satisfied: numpy>=1.17.3 in c:\\users\\efrae\\anaconda3\\lib\\site-packages (from pandas>=0.23->pandas-datareader) (1.20.3)\n",
      "Requirement already satisfied: python-dateutil>=2.7.3 in c:\\users\\efrae\\anaconda3\\lib\\site-packages (from pandas>=0.23->pandas-datareader) (2.8.2)\n",
      "Requirement already satisfied: six>=1.5 in c:\\users\\efrae\\anaconda3\\lib\\site-packages (from python-dateutil>=2.7.3->pandas>=0.23->pandas-datareader) (1.16.0)\n",
      "Requirement already satisfied: idna<4,>=2.5 in c:\\users\\efrae\\anaconda3\\lib\\site-packages (from requests>=2.19.0->pandas-datareader) (3.2)\n",
      "Requirement already satisfied: certifi>=2017.4.17 in c:\\users\\efrae\\anaconda3\\lib\\site-packages (from requests>=2.19.0->pandas-datareader) (2021.10.8)\n",
      "Requirement already satisfied: urllib3<1.27,>=1.21.1 in c:\\users\\efrae\\anaconda3\\lib\\site-packages (from requests>=2.19.0->pandas-datareader) (1.26.7)\n",
      "Requirement already satisfied: charset-normalizer~=2.0.0 in c:\\users\\efrae\\anaconda3\\lib\\site-packages (from requests>=2.19.0->pandas-datareader) (2.0.4)\n",
      "Installing collected packages: pandas-datareader\n",
      "Successfully installed pandas-datareader-0.10.0\n",
      "Collecting html5lib==1.0b8\n",
      "  Downloading html5lib-1.0b8.tar.gz (889 kB)\n",
      "Requirement already satisfied: six in c:\\users\\efrae\\anaconda3\\lib\\site-packages (from html5lib==1.0b8) (1.16.0)\n",
      "Building wheels for collected packages: html5lib\n",
      "  Building wheel for html5lib (setup.py): started\n",
      "  Building wheel for html5lib (setup.py): finished with status 'done'\n",
      "  Created wheel for html5lib: filename=html5lib-1.0b8-py3-none-any.whl size=107192 sha256=88a7d3f23577604847722fa93b23e5f870d902f87351f0f2fb83dcf7521f7bad\n",
      "  Stored in directory: c:\\users\\efrae\\appdata\\local\\pip\\cache\\wheels\\1c\\09\\9e\\ed0bbefe023c7c0106f7192db6caaf4339f2efd0940f44e0ea\n",
      "Successfully built html5lib\n",
      "Installing collected packages: html5lib\n",
      "  Attempting uninstall: html5lib\n",
      "    Found existing installation: html5lib 1.1\n",
      "    Uninstalling html5lib-1.1:\n",
      "      Successfully uninstalled html5lib-1.1\n",
      "Successfully installed html5lib-1.0b8\n"
     ]
    }
   ],
   "source": [
    "#installing pandas libraries\n",
    "!pip install pandas-datareader  \n",
    "# for reading files\n",
    "!pip install --upgrade html5lib==1.0b8  \n",
    "# for reading html\n",
    "\n",
    "\n",
    "import pandas as pd"
   ]
  },
  {
   "cell_type": "code",
   "execution_count": 13,
   "id": "870e8737",
   "metadata": {},
   "outputs": [
    {
     "data": {
      "text/plain": [
       "[               US Dollar    1.00 USD  inv. 1.00 USD\n",
       " 0                   Euro    0.948431       1.054373\n",
       " 1          British Pound    0.811422       1.232404\n",
       " 2           Indian Rupee   77.341333       0.012930\n",
       " 3      Australian Dollar    1.443693       0.692668\n",
       " 4        Canadian Dollar    1.303765       0.767010\n",
       " 5       Singapore Dollar    1.390530       0.719150\n",
       " 6            Swiss Franc    0.994122       1.005912\n",
       " 7      Malaysian Ringgit    4.381896       0.228212\n",
       " 8           Japanese Yen  130.110643       0.007686\n",
       " 9  Chinese Yuan Renminbi    6.733582       0.148509,\n",
       "                 US Dollar       1.00 USD  inv. 1.00 USD\n",
       " 0          Argentine Peso     116.913486       0.008553\n",
       " 1       Australian Dollar       1.443693       0.692668\n",
       " 2          Bahraini Dinar       0.376000       2.659574\n",
       " 3           Botswana Pula      12.226219       0.081791\n",
       " 4          Brazilian Real       5.152397       0.194084\n",
       " 5         Bruneian Dollar       1.390530       0.719150\n",
       " 6           Bulgarian Lev       1.854970       0.539092\n",
       " 7         Canadian Dollar       1.303765       0.767010\n",
       " 8            Chilean Peso     868.153632       0.001152\n",
       " 9   Chinese Yuan Renminbi       6.733582       0.148509\n",
       " 10         Colombian Peso    4091.404161       0.000244\n",
       " 11          Croatian Kuna       7.149895       0.139862\n",
       " 12           Czech Koruna      23.733541       0.042134\n",
       " 13           Danish Krone       7.055357       0.141736\n",
       " 14                   Euro       0.948431       1.054373\n",
       " 15       Hong Kong Dollar       7.850084       0.127387\n",
       " 16       Hungarian Forint     360.041117       0.002777\n",
       " 17        Icelandic Krona     132.132142       0.007568\n",
       " 18           Indian Rupee      77.341333       0.012930\n",
       " 19      Indonesian Rupiah   14529.163042       0.000069\n",
       " 20           Iranian Rial   42302.669825       0.000024\n",
       " 21         Israeli Shekel       3.462502       0.288809\n",
       " 22           Japanese Yen     130.110643       0.007686\n",
       " 23      Kazakhstani Tenge     438.941262       0.002278\n",
       " 24       South Korean Won    1277.529540       0.000783\n",
       " 25          Kuwaiti Dinar       0.306804       3.259411\n",
       " 26           Libyan Dinar       4.799708       0.208346\n",
       " 27      Malaysian Ringgit       4.381896       0.228212\n",
       " 28        Mauritian Rupee      43.213865       0.023141\n",
       " 29           Mexican Peso      20.406190       0.049005\n",
       " 30         Nepalese Rupee     123.804138       0.008077\n",
       " 31     New Zealand Dollar       1.590345       0.628795\n",
       " 32        Norwegian Krone       9.719591       0.102885\n",
       " 33             Omani Rial       0.384500       2.600780\n",
       " 34        Pakistani Rupee     189.449663       0.005278\n",
       " 35        Philippine Peso      52.388978       0.019088\n",
       " 36           Polish Zloty       4.438248       0.225314\n",
       " 37           Qatari Riyal       3.640000       0.274725\n",
       " 38       Romanian New Leu       4.691051       0.213172\n",
       " 39          Russian Ruble      69.522502       0.014384\n",
       " 40    Saudi Arabian Riyal       3.750000       0.266667\n",
       " 41       Singapore Dollar       1.390530       0.719150\n",
       " 42     South African Rand      16.153657       0.061905\n",
       " 43       Sri Lankan Rupee     365.002823       0.002740\n",
       " 44          Swedish Krona      10.051462       0.099488\n",
       " 45            Swiss Franc       0.994122       1.005912\n",
       " 46      Taiwan New Dollar      29.728984       0.033637\n",
       " 47              Thai Baht      34.618651       0.028886\n",
       " 48     Trinidadian Dollar       6.790882       0.147256\n",
       " 49           Turkish Lira      15.232786       0.065648\n",
       " 50         Emirati Dirham       3.672500       0.272294\n",
       " 51          British Pound       0.811422       1.232404\n",
       " 52     Venezuelan Bolivar  457446.928223       0.000002]"
      ]
     },
     "execution_count": 13,
     "metadata": {},
     "output_type": "execute_result"
    }
   ],
   "source": [
    "df_list = pd.read_html('https://www.x-rates.com/table/?from=USD&amount=1')\n",
    "df_list"
   ]
  },
  {
   "cell_type": "code",
   "execution_count": null,
   "id": "849948ad",
   "metadata": {},
   "outputs": [],
   "source": []
  },
  {
   "cell_type": "code",
   "execution_count": null,
   "id": "f7015f3a",
   "metadata": {},
   "outputs": [],
   "source": []
  }
 ],
 "metadata": {
  "kernelspec": {
   "display_name": "Python 3 (ipykernel)",
   "language": "python",
   "name": "python3"
  },
  "language_info": {
   "codemirror_mode": {
    "name": "ipython",
    "version": 3
   },
   "file_extension": ".py",
   "mimetype": "text/x-python",
   "name": "python",
   "nbconvert_exporter": "python",
   "pygments_lexer": "ipython3",
   "version": "3.9.7"
  }
 },
 "nbformat": 4,
 "nbformat_minor": 5
}
